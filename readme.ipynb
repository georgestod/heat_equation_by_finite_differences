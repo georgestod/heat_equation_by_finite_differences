{
 "cells": [
  {
   "cell_type": "code",
   "execution_count": null,
   "metadata": {},
   "outputs": [],
   "source": []
  },
  {
   "cell_type": "markdown",
   "metadata": {},
   "source": [
    "The heat equation is a beautiful equation that can be derived from first principles. Stating the energy conservation law leads to,\n",
    "\\begin{equation*}\n",
    "\\frac{d}{dt} \\Big( \\underbrace{\\int_D \\rho \\cdot c_p \\cdot T \\cdot dv}_{\\text{total energy}} \\Big ) =  \\underbrace{\\int_{\\partial D} k \\nabla \\cdot T \\cdot n \\cdot dS}_{\\text{power through boundaries}} + \\underbrace{\\int_D q \\cdot dv}_{\\text{power source term}}\n",
    "\\end{equation*}\n",
    "which becomes by introducing the divergence operator,\n",
    "\\begin{equation*}\n",
    "\\frac{d}{dt} \\Big( \\int_D \\rho \\cdot c_p \\cdot T \\cdot dv \\Big ) =  \\int_{D} \\nabla \\cdot (k \\nabla \\cdot T) dv + \\int_D q \\cdot dv\n",
    "\\end{equation*}\n",
    "which means for every point of the domain $D$,\n",
    "\\begin{equation*}\n",
    "\\frac{\\partial (\\rho \\cdot c_p \\cdot T)}{\\partial t} = \\nabla \\cdot (k \\cdot \\nabla T) + q\n",
    "\\end{equation*}\n",
    "If we assume the density and specific heat of the $D$ are time-independent,\n",
    "\\begin{equation*}\n",
    "\\rho \\cdot c_p \\cdot \\frac{\\partial T}{\\partial t} = \\nabla \\cdot (k \\cdot \\nabla T) + q\n",
    "\\end{equation*}\n",
    "Now, if we add the assumption that isotropy (same conductivity in all directions) on $D$,\n",
    "\\begin{equation*}\n",
    "\\rho \\cdot c_p \\cdot \\frac{\\partial T}{\\partial t} = k\\cdot \\nabla^2 T + q\n",
    "\\end{equation*}\n",
    "Finally, if we limit ourselves to 2 dimensions and suppose there is no energy input in our system,\n",
    "\\begin{equation}\n",
    "\\frac{\\partial T}{\\partial t} = \\frac{k}{\\rho \\cdot c_p} \\Big( \\frac{\\partial^2 T}{\\partial x^2} +\\frac{\\partial^2 T}{\\partial y^2} \\Big)\n",
    "\\label{eq:THE_EQUATION}\n",
    "\\end{equation}\n",
    "\\subsection{Discretizing time and space}\n",
    "In its simplest form, finite differences consist in discretizing the \\textit{time} and \\textit{space} domains as follows,\n",
    "\\begin{equation}\n",
    "\\Big(\\ \\frac{\\partial T}{\\partial t} \\Big)_{i,j}^{n} \\approx \\frac{T_{i,j}^{n+1}-T_{i,j}^{n}}{\\Delta t}\n",
    "\\end{equation}\n",
    "%\n",
    "\\begin{equation}\n",
    "\\Big(\\ \\frac{\\partial^2 T}{\\partial x^2} \\Big)_{i,j}^{n} \\approx \\frac{T_{i+1,j}^{n}-2 T_{i,j}^{n}+T_{i-1,j}^{n} }{\\Delta x^2}\n",
    "\\end{equation}\n",
    "%\n",
    "\\begin{equation}\n",
    "\\Big(\\ \\frac{\\partial^2 T}{\\partial y^2} \\Big)_{i,j}^{n} \\approx \\frac{T_{i,j+1}^{n}-2 T_{i,j}^{n}+T_{i,j-1}^{n} }{\\Delta y^2}\n",
    "\\end{equation}\n",
    "%\n",
    "where $n$ is a component of the discretized time vector, $(i,j)$ are the coordinates of a point in the $xy$ plane, $\\Delta t$, the time step and $\\Delta x$ and $\\Delta y$ the space between points on the desired computation domain.\n",
    "By combining the expressions above and the equation \\ref{eq:THE_EQUATION}, the temperature can be computed on every point of the computation domain as a function of the previous time step,\n",
    "\\begin{equation}\n",
    "T_{i,j}^{n+1} = T_{i,j}^{n}+ \\Delta t \\frac{k}{\\rho \\cdot c_p} \\Big(\\frac{T_{i+1,j}^{n}-2 T_{i,j}^{n}+T_{i-1,j}^{n} }{\\Delta x^2} + \\frac{T_{i,j+1}^{n}-2 T_{i,j}^{n}+T_{i,j-1}^{n} }{\\Delta y^2}\\Big)\n",
    "\\end{equation}\n",
    "\\subsection{Numerically stable solutions}\n",
    "The previous equation can be recasted in the following matrix form,\n",
    "\\begin{equation}\n",
    "T^{n+1} = \\Big( \\frac{\\alpha \\Delta t}{h^2}\\cdot A+I_n\\Big)\\cdot T_n + \\frac{\\alpha \\Delta t}{h^2}\\cdot B\n",
    "\\label{eq:suite}\n",
    "\\end{equation}\n",
    "where $B$ encapsulates static boundary conditions (as the ones used in this work), $h=\\Delta x=\\Delta y$ and $\\alpha = \\frac{k}{\\rho \\cdot c_p}$ is the \\textit{diffusion} coefficient.  To reduce the computational cost, it is recommended when using this formulation to specify in MATLAB or equivalent that $A$ is a sparse matrix.\n",
    "\n",
    "The expression \\ref{eq:suite} is a finite arithmetic progression, so to make sure it will converge, nonnegativity is required,\n",
    "\\begin{equation}\n",
    " \\frac{\\alpha \\Delta t}{h^2}\\cdot A+I_n \\ge 0\n",
    "\\end{equation}\n",
    "By looking at the smallest terms, which are in the diagonal, we get the largest time step allowed for numerical stability,\n",
    "\\begin{equation}\n",
    "\\Delta t \\leq \\frac{h^2}{\\gamma \\cdot \\alpha}\n",
    "\\end{equation}\n",
    "where $\\gamma = 4$. All the previous steps can be generalized to the 3D case, one would find $\\gamma = 6$."
   ]
  }
 ],
 "metadata": {
  "kernelspec": {
   "display_name": "Python 3",
   "language": "python",
   "name": "python3"
  },
  "language_info": {
   "codemirror_mode": {
    "name": "ipython",
    "version": 3
   },
   "file_extension": ".py",
   "mimetype": "text/x-python",
   "name": "python",
   "nbconvert_exporter": "python",
   "pygments_lexer": "ipython3",
   "version": "3.7.4"
  }
 },
 "nbformat": 4,
 "nbformat_minor": 4
}
